{
 "cells": [
  {
   "cell_type": "code",
   "execution_count": 4,
   "id": "2987a4eb",
   "metadata": {},
   "outputs": [
    {
     "name": "stdout",
     "output_type": "stream",
     "text": [
      "Counter({'you': 3, 'hey': 1, 'i': 1, 'hope': 1, 'are': 1, 'well': 1, 'and': 1, 'next': 1, 'time': 1, 'read': 1, 'it': 1, 'found': 1, 'a': 1, 'job': 1})\n"
     ]
    }
   ],
   "source": [
    "from collections import Counter \n",
    "with open(\"welcome.txt\", \"r\") as file:\n",
    "    text = file.read()\n",
    "words=text.split()\n",
    "word_count = Counter(words)\n",
    "print(word_count)"
   ]
  },
  {
   "cell_type": "code",
   "execution_count": 10,
   "id": "6e894d09",
   "metadata": {},
   "outputs": [
    {
     "name": "stdout",
     "output_type": "stream",
     "text": [
      "book(title='the prince', author='Niccolo Machiavelli', year='1532')\n",
      "Title: the prince\n",
      "Author: Niccolo Machiavelli\n"
     ]
    }
   ],
   "source": [
    "from collections import namedtuple\n",
    "book=namedtuple(\"book\",[\"title\",\"author\",\"year\"])\n",
    "book1=book(\"the prince\",\"Niccolo Machiavelli\",\"1532\")\n",
    "print(book1)\n",
    "print(\"Title:\", book1.title)\n",
    "print(\"Author:\", book1.author)"
   ]
  },
  {
   "cell_type": "code",
   "execution_count": 12,
   "id": "8f5d9cfc",
   "metadata": {},
   "outputs": [
    {
     "name": "stdout",
     "output_type": "stream",
     "text": [
      "Removed: first\n",
      "Current queue: deque(['second', 'third'])\n"
     ]
    }
   ],
   "source": [
    "from collections import deque\n",
    "queue = deque()\n",
    "queue.append(\"first\")\n",
    "queue.append(\"second\")\n",
    "queue.append(\"third\")\n",
    "first_out = queue.popleft()\n",
    "print(\"Removed:\", first_out)\n",
    "print(\"Current queue:\", queue)"
   ]
  },
  {
   "cell_type": "code",
   "execution_count": null,
   "id": "c84c5948",
   "metadata": {},
   "outputs": [],
   "source": []
  }
 ],
 "metadata": {
  "kernelspec": {
   "display_name": "Python 3 (ipykernel)",
   "language": "python",
   "name": "python3"
  },
  "language_info": {
   "codemirror_mode": {
    "name": "ipython",
    "version": 3
   },
   "file_extension": ".py",
   "mimetype": "text/x-python",
   "name": "python",
   "nbconvert_exporter": "python",
   "pygments_lexer": "ipython3",
   "version": "3.10.9"
  }
 },
 "nbformat": 4,
 "nbformat_minor": 5
}
